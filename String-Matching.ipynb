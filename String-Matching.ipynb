{
 "cells": [
  {
   "cell_type": "markdown",
   "metadata": {},
   "source": [
    "# Jess Strait\n",
    "# String Matching Assignment"
   ]
  },
  {
   "cell_type": "markdown",
   "metadata": {},
   "source": [
    "Q1: Implement the function for determining the Jaccard similarity between two strings. Let s1 = \"Apple Corporation, CA\" and s2 = \"Apple Corp, CA\" Print the output of: jaccard_sim(s1, s2, k) for k = 1,2,3, and 4 \n"
   ]
  },
  {
   "cell_type": "code",
   "execution_count": 1,
   "metadata": {},
   "outputs": [
    {
     "name": "stdout",
     "output_type": "stream",
     "text": [
      "Once deleted, variables cannot be recovered. Proceed (y/[n])? y\n"
     ]
    }
   ],
   "source": [
    "# Clear environment and import packages\n",
    "%reset\n",
    "import pandas as pd\n",
    "import numpy as np\n",
    "from nltk import ngrams"
   ]
  },
  {
   "cell_type": "code",
   "execution_count": 2,
   "metadata": {},
   "outputs": [],
   "source": [
    "def jaccard_sim(x, y, k):\n",
    "    # Use nltk to compute kgrams based on given k for each string\n",
    "    grams1 = [ ' '.join(grams) for grams in (ngrams(x, k))]\n",
    "    grams2 = [ ' '.join(grams) for grams in (ngrams(y, k))]\n",
    "    # Compute length of the intersection between both sets of kgrams\n",
    "    intersection = len(set(grams1).intersection(grams2))\n",
    "    # Compute length of the union between both sets of kgrams\n",
    "    union = len(set(grams1).union(grams2))\n",
    "    # Calculate similarity score by dividing intersection length by union length\n",
    "    sim = float(intersection)/union\n",
    "    return sim"
   ]
  },
  {
   "cell_type": "code",
   "execution_count": 3,
   "metadata": {},
   "outputs": [
    {
     "name": "stdout",
     "output_type": "stream",
     "text": [
      "0.6923076923076923\n",
      "0.5789473684210527\n",
      "0.47619047619047616\n",
      "0.38095238095238093\n"
     ]
    }
   ],
   "source": [
    "# Compute similarity for different k values\n",
    "print(jaccard_sim(\"Apple Corporation, CA\", \"Apple Corp, CA\", k = 1))\n",
    "print(jaccard_sim(\"Apple Corporation, CA\", \"Apple Corp, CA\", k = 2))\n",
    "print(jaccard_sim(\"Apple Corporation, CA\", \"Apple Corp, CA\", k = 3))\n",
    "print(jaccard_sim(\"Apple Corporation, CA\", \"Apple Corp, CA\", k = 4))"
   ]
  },
  {
   "cell_type": "markdown",
   "metadata": {},
   "source": [
    "Q2: Implement the function for computing the edit distance between two strings. Let s1 = \"Apple\" and s2 = \"Apel\". Print edit_distance(s1, s2). Validate your output by manually applying the recursive dynamic programming equations. "
   ]
  },
  {
   "cell_type": "code",
   "execution_count": 4,
   "metadata": {},
   "outputs": [],
   "source": [
    "def edit_distance(x, y):\n",
    "    # Add one to lengths to accommodate the space at the start of the strings in the grid\n",
    "    len1 = len(x)+1\n",
    "    len2 = len(y)+1\n",
    "    # Generate matrix of zeros\n",
    "    grid = np.zeros((len1, len2))\n",
    "    # Fill matrix first row and column with sequence of numbers\n",
    "    for i in range(len1):\n",
    "        grid[i, 0]=i\n",
    "    for j in range(len2):\n",
    "        grid[0, j]=j\n",
    "    # Loop through both strings\n",
    "    for p in range(1, len1):\n",
    "        for q in range(1, len2):\n",
    "            # If the values being compared in each string are the same, the cost to be added is zero\n",
    "            if x[p-1] == y[q-1]:\n",
    "                cost = 0\n",
    "            # Otherwise, for any action taken, the cost to be added is one\n",
    "            else:\n",
    "                cost = 1\n",
    "            # Now, we set the location in the matrix to be the minimum of the values above, to the left,\n",
    "            # and on the diagonal, plus whatever cost we determined\n",
    "            grid[p, q] = min(grid[p-1][q] + cost,      \n",
    "                             grid[p][q-1] + cost,         \n",
    "                             grid[p-1][q-1] + cost) \n",
    "    # The edit distance is the bottom right corner of the matrix, which can be determined based on the length of the strings\n",
    "    ed = int(grid[len1-1, len2-1])\n",
    "    return ed"
   ]
  },
  {
   "cell_type": "code",
   "execution_count": 5,
   "metadata": {},
   "outputs": [
    {
     "data": {
      "text/plain": [
       "2"
      ]
     },
     "execution_count": 5,
     "metadata": {},
     "output_type": "execute_result"
    }
   ],
   "source": [
    "# Compute edit distance for given strings\n",
    "s1 = \"Apple\"\n",
    "s2 = \"Apel\"\n",
    "edit_distance(s1, s2)"
   ]
  },
  {
   "cell_type": "markdown",
   "metadata": {},
   "source": [
    "Below is the graph used during manual recursion to determine the edit distance of the given strings. The bottom right corner of the matrix is the edit distance, and it is equal to 2.\n",
    "<img src=\"apple-path.png\">"
   ]
  },
  {
   "cell_type": "markdown",
   "metadata": {},
   "source": [
    "Q3: Implement the function for computing the similarity between two strings based on their edit distance score."
   ]
  },
  {
   "cell_type": "code",
   "execution_count": 6,
   "metadata": {},
   "outputs": [
    {
     "data": {
      "text/plain": [
       "0.6666666666666667"
      ]
     },
     "execution_count": 6,
     "metadata": {},
     "output_type": "execute_result"
    }
   ],
   "source": [
    "s1 = \"Apple Corporation, CA\"\n",
    "s2 = \"Apple Corp, CA\"\n",
    "# Use function given in lecture to compute edit similarity\n",
    "def ed_similarity(x, y):\n",
    "    return 1 - (edit_distance(x, y))/max(len(x), len(y))\n",
    "ed_similarity(s1, s2)"
   ]
  }
 ],
 "metadata": {
  "kernelspec": {
   "display_name": "Python 3",
   "language": "python",
   "name": "python3"
  },
  "language_info": {
   "codemirror_mode": {
    "name": "ipython",
    "version": 3
   },
   "file_extension": ".py",
   "mimetype": "text/x-python",
   "name": "python",
   "nbconvert_exporter": "python",
   "pygments_lexer": "ipython3",
   "version": "3.7.6"
  }
 },
 "nbformat": 4,
 "nbformat_minor": 4
}
